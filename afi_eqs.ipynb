{
 "cells": [
  {
   "cell_type": "markdown",
   "metadata": {},
   "source": [
    "# Actual Flip-Angle Imaging"
   ]
  },
  {
   "cell_type": "markdown",
   "metadata": {},
   "source": [
    "\\begin{equation}\n",
    "M_{z1} = M_{0}\\frac{1-e^{\\frac{-TR_2}{T_1}}+\\left(1-e^{\\frac{-TR_1}{T_1}}\\right)e^{\\frac{-TR_2}{T_1}}\\cos(\\theta)}{1-e^{\\frac{-TR_1}{T_1}}e^{\\frac{-TR_2}{T_1}}\\cos^{2}(\\theta)}\\sin(\\theta)\n",
    "\\end{equation}"
   ]
  },
  {
   "cell_type": "markdown",
   "metadata": {},
   "source": [
    "\\begin{equation}\n",
    "M_{z2} = M_{0}\\frac{1-e^{\\frac{-TR_1}{T_1}}+\\left(1-e^{\\frac{-TR_2}{T_1}}\\right)e^{\\frac{-TR_1}{T_1}}\\cos(\\theta)}{1-e^{\\frac{-TR_1}{T_1}}e^{\\frac{-TR_2}{T_1}}\\cos^{2}(\\theta)}\\sin(\\theta)\n",
    "\\end{equation}"
   ]
  },
  {
   "cell_type": "markdown",
   "metadata": {},
   "source": [
    "\\begin{equation}\n",
    "r = \\frac{S_2}{S_1} = \\frac{1-e^{\\frac{-TR_1}{T_1}}+\\left(1-e^{\\frac{-TR_2}{T_1}}\\right)e^{\\frac{-TR_1}{T_1}}\\cos(\\theta)}{1-e^{\\frac{-TR_2}{T_1}}+\\left(1-e^{\\frac{-TR_1}{T_1}}\\right)e^{\\frac{-TR_2}{T_1}}\\cos(\\theta)}\n",
    "\\end{equation}"
   ]
  },
  {
   "cell_type": "markdown",
   "metadata": {},
   "source": [
    "\\begin{equation}\n",
    "r\\approx\\frac{1+n\\cos(\\theta)}{n+\\cos(\\theta)}\n",
    "\\end{equation}"
   ]
  },
  {
   "cell_type": "markdown",
   "metadata": {},
   "source": [
    "\\begin{equation}\n",
    "\\theta\\approx\\arccos\\left(\\frac{rn-1}{n-r}\\right)\n",
    "\\end{equation}"
   ]
  },
  {
   "cell_type": "markdown",
   "metadata": {},
   "source": [
    "\\begin{equation}\n",
    "S_{1} = M_{z1}e^{\\frac{-TE}{T_{2}^{*}}}\\sin(\\alpha)\n",
    "\\end{equation}"
   ]
  },
  {
   "cell_type": "markdown",
   "metadata": {},
   "source": [
    "\\begin{equation}\n",
    "S_{2} = M_{z2}e^{\\frac{-TE}{T_{2}^{*}}}\\sin(\\alpha)\n",
    "\\end{equation}"
   ]
  },
  {
   "cell_type": "markdown",
   "metadata": {},
   "source": [
    "#### Complete analtical equation:"
   ]
  },
  {
   "cell_type": "markdown",
   "metadata": {},
   "source": [
    "#### First order approximation (n=TR2/TR1):"
   ]
  },
  {
   "cell_type": "markdown",
   "metadata": {},
   "source": [
    "\\begin{equation}\n",
    "S(\\alpha)=cgM_{0}\\frac{1-e^{\\frac{-TR}{T1}}}{1-e^{\\frac{-TR}{T1}}\\cos(\\alpha_{nom})}\\sin(\\alpha_{nom})e^{\\frac{-TE}{T_{2}^{*}}}\n",
    "\\end{equation}"
   ]
  },
  {
   "cell_type": "markdown",
   "metadata": {},
   "source": [
    "## Signal modelling"
   ]
  },
  {
   "cell_type": "code",
   "execution_count": 15,
   "metadata": {},
   "outputs": [],
   "source": [
    "import numpy as np\n",
    "import matplotlib.pyplot as plt\n",
    "from IPython.display import display\n",
    "import ipywidgets as widgets"
   ]
  },
  {
   "cell_type": "code",
   "execution_count": 17,
   "metadata": {},
   "outputs": [
    {
     "ename": "NameError",
     "evalue": "name 'TR1' is not defined",
     "output_type": "error",
     "traceback": [
      "\u001b[1;31m---------------------------------------------------------------------------\u001b[0m",
      "\u001b[1;31mNameError\u001b[0m                                 Traceback (most recent call last)",
      "\u001b[1;32m<ipython-input-17-523eaedce4f9>\u001b[0m in \u001b[0;36m<module>\u001b[1;34m\u001b[0m\n\u001b[0;32m     63\u001b[0m     \u001b[0mTR1\u001b[0m \u001b[1;33m=\u001b[0m \u001b[0mwidgets\u001b[0m\u001b[1;33m.\u001b[0m\u001b[0mFloatSlider\u001b[0m\u001b[1;33m(\u001b[0m\u001b[0mmin\u001b[0m\u001b[1;33m=\u001b[0m\u001b[1;36m10\u001b[0m\u001b[1;33m,\u001b[0m \u001b[0mmax\u001b[0m\u001b[1;33m=\u001b[0m\u001b[1;36m50\u001b[0m\u001b[1;33m,\u001b[0m \u001b[0mvalue\u001b[0m\u001b[1;33m=\u001b[0m\u001b[1;36m20\u001b[0m\u001b[1;33m,\u001b[0m \u001b[0mdescription\u001b[0m\u001b[1;33m=\u001b[0m\u001b[1;34m'TR<sub>1<sub>:'\u001b[0m\u001b[1;33m)\u001b[0m\u001b[1;33m\u001b[0m\u001b[1;33m\u001b[0m\u001b[0m\n\u001b[0;32m     64\u001b[0m \u001b[1;33m\u001b[0m\u001b[0m\n\u001b[1;32m---> 65\u001b[1;33m \u001b[0mwidgets\u001b[0m\u001b[1;33m.\u001b[0m\u001b[0minteract\u001b[0m\u001b[1;33m(\u001b[0m\u001b[0mSignal_function\u001b[0m\u001b[1;33m,\u001b[0m \u001b[0mTR1\u001b[0m\u001b[1;33m=\u001b[0m\u001b[0mTR1\u001b[0m\u001b[1;33m)\u001b[0m\u001b[1;33m\u001b[0m\u001b[1;33m\u001b[0m\u001b[0m\n\u001b[0m\u001b[0;32m     66\u001b[0m \u001b[0mdisplay\u001b[0m\u001b[1;33m(\u001b[0m\u001b[0mTR1\u001b[0m\u001b[1;33m)\u001b[0m\u001b[1;33m\u001b[0m\u001b[1;33m\u001b[0m\u001b[0m\n",
      "\u001b[1;31mNameError\u001b[0m: name 'TR1' is not defined"
     ]
    }
   ],
   "source": [
    "def Signal_function(TR1):\n",
    "    M0 = 1000;\n",
    "    flip_angles = np.arange(10,110,10); #Flip angles\n",
    "    flip_angles = flip_angles*np.pi/180; #In radians for computation\n",
    "    T1_wm = 900; #ms\n",
    "    T1_gm = 1500; #ms\n",
    "    T1_csf = 4000; #ms\n",
    "    TE = 3.5; #ms\n",
    "    TR2 = 5*TR1;\n",
    "    #TR1 = np.arange(30,30,20,20,20); #ms\n",
    "    #TR2 = np.arange(60,90,80,100,120); #ms\n",
    "    #n = np.divide(TR2,TR1);\n",
    "\n",
    "    #Longitudinal magnetization and signal (white matter)\n",
    "    Mz1_wm = M0*((1 - np.exp(-TR2/T1_wm) + (1 - np.exp(-TR1/T1_wm))*np.exp(-TR2/T1_wm)*np.cos(flip_angles))/(1 - np.exp(-TR1/T1_wm)*np.exp(-TR2/T1_wm)*np.cos(flip_angles)*np.cos(flip_angles)));\n",
    "    Mz2_wm = M0*((1 - np.exp(-TR1/T1_wm) + (1 - np.exp(-TR2/T1_wm))*np.exp(-TR1/T1_wm)*np.cos(flip_angles))/(1 - np.exp(-TR1/T1_wm)*np.exp(-TR2/T1_wm)*np.cos(flip_angles)*np.cos(flip_angles)));\n",
    "\n",
    "    S1_wm = Mz1_wm*0.8*np.sin(flip_angles);\n",
    "    S2_wm = Mz2_wm*0.8*np.sin(flip_angles);\n",
    "\n",
    "    #Normalizing at 20°\n",
    "    S1_norm_wm = S1_wm/S1_wm[1];\n",
    "    S2_norm_wm = S2_wm/S1_wm[1];\n",
    "    \n",
    "    #Longitudinal magnetization and signal (gray matter)\n",
    "    Mz1_gm = M0*((1 - np.exp(-TR2/T1_gm) + (1 - np.exp(-TR1/T1_gm))*np.exp(-TR2/T1_gm)*np.cos(flip_angles))/(1 - np.exp(-TR1/T1_gm)*np.exp(-TR2/T1_gm)*np.cos(flip_angles)*np.cos(flip_angles)));\n",
    "    Mz2_gm = M0*((1 - np.exp(-TR1/T1_gm) + (1 - np.exp(-TR2/T1_gm))*np.exp(-TR1/T1_gm)*np.cos(flip_angles))/(1 - np.exp(-TR1/T1_gm)*np.exp(-TR2/T1_gm)*np.cos(flip_angles)*np.cos(flip_angles)));\n",
    "\n",
    "    S1_gm = Mz1_gm*0.8*np.sin(flip_angles);\n",
    "    S2_gm = Mz2_gm*0.8*np.sin(flip_angles);\n",
    "\n",
    "    S1_norm_gm = S1_gm/S1_gm[1];\n",
    "    S2_norm_gm = S2_gm/S1_gm[1];\n",
    "    \n",
    "    #Longitudinal magnetization and signal (cerebrospinal fluid matter)\n",
    "    Mz1_csf = M0*((1 - np.exp(-TR2/T1_csf) + (1 - np.exp(-TR1/T1_csf))*np.exp(-TR2/T1_csf)*np.cos(flip_angles))/(1 - np.exp(-TR1/T1_csf)*np.exp(-TR2/T1_csf)*np.cos(flip_angles)*np.cos(flip_angles)));\n",
    "    Mz2_csf = M0*((1 - np.exp(-TR1/T1_csf) + (1 - np.exp(-TR2/T1_csf))*np.exp(-TR1/T1_csf)*np.cos(flip_angles))/(1 - np.exp(-TR1/T1_csf)*np.exp(-TR2/T1_csf)*np.cos(flip_angles)*np.cos(flip_angles)));\n",
    "\n",
    "    S1_csf = Mz1_csf*0.8*np.sin(flip_angles);\n",
    "    S2_csf = Mz2_csf*0.8*np.sin(flip_angles);\n",
    "\n",
    "    S1_norm_csf = S1_csf/S1_csf[1];\n",
    "    S2_norm_csf = S2_csf/S1_csf[1];\n",
    "\n",
    "    #Signal intensities (normalized at 20°) vs angle, ranging from 10 to 110 degrees\n",
    "    #TR1 and TR2 parameters are passed to the function\n",
    "    s1_wm = plt.plot(np.arange(10,110,10), S1_norm_wm, color='blue', ls='dashed', label='$T_1$ = 0.9 s (Signal 1)')\n",
    "    plt.xlabel('Flip angles '  r'($\\theta$)')\n",
    "    plt.ylabel('Normalized signal intensities')\n",
    "    plt.ylim(0,1.4)\n",
    "    plt.xlim(0,110)\n",
    "    s2_wm = plt.plot(np.arange(10,110,10), S2_norm_wm, color='blue', label='$T_1$ = 0.9 s (Signal 2)')\n",
    "    \n",
    "    s1_gm = plt.plot(np.arange(10,110,10), S1_norm_gm, color='orange', ls='dashed', label='$T_1$ = 1.5 s (Signal 1)')\n",
    "    s2_gm = plt.plot(np.arange(10,110,10), S2_norm_gm, color='orange', label='$T_1$ = 1.5 s (Signal 2)')\n",
    "    \n",
    "    s1_csf = plt.plot(np.arange(10,110,10), S1_norm_csf, color='green', ls='dashed', label='$T_1$ = 4.0 s (Signal 1)')\n",
    "    s2_csf = plt.plot(np.arange(10,110,10), S2_norm_csf, color='green', label='$T_1$ = 4.0 s (Signal 2)')\n",
    "\n",
    "    \n",
    "    leg = plt.legend(loc=1, fontsize='medium', frameon=True)\n",
    "    leg.get_frame().set_linewidth(1)\n",
    "    TR1 = widgets.FloatSlider(min=10, max=50, value=20, description='TR<sub>1<sub>:')\n",
    "    \n",
    "widgets.interact(Signal_function, TR1=TR1)\n",
    "display(TR1)\n"
   ]
  },
  {
   "cell_type": "markdown",
   "metadata": {},
   "source": [
    "## r ratio simulations"
   ]
  },
  {
   "cell_type": "markdown",
   "metadata": {},
   "source": [
    "#### Effect of T1"
   ]
  },
  {
   "cell_type": "code",
   "execution_count": 6,
   "metadata": {},
   "outputs": [
    {
     "data": {
      "image/png": "[encoded data removed]",
      "text/plain": [
       "<Figure size 432x288 with 1 Axes>"
      ]
     },
     "metadata": {
      "needs_background": "light"
     },
     "output_type": "display_data"
    },
    {
     "data": {
      "text/plain": [
       "<function __main__.T1simulations(T1)>"
      ]
     },
     "execution_count": 6,
     "metadata": {},
     "output_type": "execute_result"
    }
   ],
   "source": [
    "def T1simulations(T1):\n",
    "    M0 = 1000;\n",
    "    flip_angles = np.arange(10,110,10); #Flip angles\n",
    "    flip_angles = flip_angles*np.pi/180; #In radians for computation\n",
    "    TE = 3.5; #ms\n",
    "    TR1 = 20; #ms\n",
    "    TR2 = 100; #ms\n",
    "    n = TR2/TR1; #fixed ratio\n",
    "\n",
    "    #Longitudinal magnetization and signal (white matter)\n",
    "    Mz1 = M0*((1 - np.exp(-TR2/T1) + (1 - np.exp(-TR1/T1))*np.exp(-TR2/T1)*np.cos(flip_angles))/(1 - np.exp(-TR1/T1)*np.exp(-TR2/T1)*np.cos(flip_angles)*np.cos(flip_angles)));\n",
    "    Mz2 = M0*((1 - np.exp(-TR1/T1) + (1 - np.exp(-TR2/T1))*np.exp(-TR1/T1)*np.cos(flip_angles))/(1 - np.exp(-TR1/T1)*np.exp(-TR2/T1)*np.cos(flip_angles)*np.cos(flip_angles)));\n",
    "\n",
    "    S1 = Mz1*0.8**np.sin(flip_angles);\n",
    "    S2 = Mz2*0.8**np.sin(flip_angles);\n",
    "    \n",
    "    #r ratio\n",
    "    r = np.divide(S2,S1)\n",
    "    r_app = np.divide(1 + n*np.cos(flip_angles),n + np.cos(flip_angles))\n",
    "\n",
    "    #Signal intensities (normalized at 20°) vs angle, ranging from 10 to 110 degrees\n",
    "    #TR1 and TR2 parameters are passed to the function\n",
    "    f = plt.plot(np.arange(10,110,10), r, color='blue', ls='dashed', label='Variable $T_1$ (ms)')\n",
    "    plt.xlabel('Flip angles '  r'($\\theta$)')\n",
    "    plt.ylabel('r')\n",
    "    plt.ylim(0,1)\n",
    "    plt.xlim(0,110)\n",
    "    f_app = plt.plot(np.arange(10,110,10), r_app, color='blue', label='1st order approximation')\n",
    "    \n",
    "    leg = plt.legend(loc=1, fontsize='medium', frameon=True)\n",
    "    leg.get_frame().set_linewidth(1)\n",
    "    \n",
    "interact(T1simulations, T1=(200,2000,200))"
   ]
  },
  {
   "cell_type": "markdown",
   "metadata": {},
   "source": [
    "#### Effect of TR1"
   ]
  },
  {
   "cell_type": "code",
   "execution_count": 10,
   "metadata": {},
   "outputs": [
    {
     "data": {
      "application/vnd.jupyter.widget-view+json": {
       "model_id": "e768704a3fe04242b40775ba06c7cca8",
       "version_major": 2,
       "version_minor": 0
      },
      "text/plain": [
       "interactive(children=(IntSlider(value=30, description='TR1', max=60, min=10, step=10), Output()), _dom_classes…"
      ]
     },
     "metadata": {},
     "output_type": "display_data"
    },
    {
     "data": {
      "text/plain": [
       "<function __main__.TR1simulations(TR1)>"
      ]
     },
     "execution_count": 10,
     "metadata": {},
     "output_type": "execute_result"
    }
   ],
   "source": [
    "def TR1simulations(TR1):\n",
    "    M0 = 1000;\n",
    "    flip_angles = np.arange(10,110,10); #Flip angles\n",
    "    flip_angles = flip_angles*np.pi/180; #In radians for computation\n",
    "    TE = 3.5; #ms\n",
    "    T1 = 500; #ms\n",
    "    n = 5; #TR2/TR1: fix ratio 5\n",
    "\n",
    "    #Longitudinal magnetization and signal (white matter)\n",
    "    Mz1 = M0*((1 - np.exp(-n*TR1/T1) + (1 - np.exp(-TR1/T1))*np.exp(-n*TR1/T1)*np.cos(flip_angles))/(1 - np.exp(-TR1/T1)*np.exp(-n*TR1/T1)*np.cos(flip_angles)*np.cos(flip_angles)));\n",
    "    Mz2 = M0*((1 - np.exp(-TR1/T1) + (1 - np.exp(-n*TR1/T1))*np.exp(-TR1/T1)*np.cos(flip_angles))/(1 - np.exp(-TR1/T1)*np.exp(-n*TR1/T1)*np.cos(flip_angles)*np.cos(flip_angles)));\n",
    "\n",
    "    S1 = Mz1*0.8**np.sin(flip_angles);\n",
    "    S2 = Mz2*0.8**np.sin(flip_angles);\n",
    "    \n",
    "    #r ratio\n",
    "    r = np.divide(S2,S1)\n",
    "    r_app = np.divide(1 + n*np.cos(flip_angles),n + np.cos(flip_angles))\n",
    "\n",
    "    #Signal intensities (normalized at 20°) vs angle, ranging from 10 to 110 degrees\n",
    "    #TR1 and TR2 parameters are passed to the function\n",
    "    f = plt.plot(np.arange(10,110,10), r, color='blue', ls='dashed', label='Variable $TR1$ (ms) fixed n=5')\n",
    "    plt.xlabel('Flip angles '  r'($\\theta$)')\n",
    "    plt.ylabel('r')\n",
    "    plt.ylim(0,1)\n",
    "    plt.xlim(0,110)\n",
    "    f_app = plt.plot(np.arange(10,110,10), r_app, color='blue', label='1st order approximation')\n",
    "    \n",
    "    leg = plt.legend(loc=1, fontsize='medium', frameon=True)\n",
    "    leg.get_frame().set_linewidth(1)\n",
    "    \n",
    "interact(TR1simulations, TR1=(10,60,10))"
   ]
  },
  {
   "cell_type": "markdown",
   "metadata": {},
   "source": [
    "#### Effect of n"
   ]
  },
  {
   "cell_type": "code",
   "execution_count": 7,
   "metadata": {},
   "outputs": [
    {
     "data": {
      "image/png": "[encoded data removed]",
      "text/plain": [
       "<Figure size 432x288 with 1 Axes>"
      ]
     },
     "metadata": {
      "needs_background": "light"
     },
     "output_type": "display_data"
    },
    {
     "data": {
      "text/plain": [
       "<function __main__.nSimulations(n)>"
      ]
     },
     "execution_count": 7,
     "metadata": {},
     "output_type": "execute_result"
    }
   ],
   "source": [
    "def nSimulations(n):\n",
    "    M0 = 1000;\n",
    "    flip_angles = np.arange(10,110,10); #Flip angles\n",
    "    flip_angles = flip_angles*np.pi/180; #In radians for computation\n",
    "    TE = 3.5; #ms\n",
    "    T1 = 500; #ms\n",
    "    TR1 = 20; #ms (fixed)\n",
    "    TR2 = n*TR1;\n",
    "\n",
    "    #Longitudinal magnetization and signal\n",
    "    Mz1 = M0*((1 - np.exp(-TR2/T1) + (1 - np.exp(-TR2/(n*T1)))*np.exp(-TR2/T1)*np.cos(flip_angles))/(1 - np.exp(-TR2/(n*T1))*np.exp(-TR2/T1)*np.cos(flip_angles)*np.cos(flip_angles)));\n",
    "    Mz2 = M0*((1 - np.exp(-TR2/(n*T1)) + (1 - np.exp(-TR2/T1))*np.exp(-TR2/(n*T1))*np.cos(flip_angles))/(1 - np.exp(-TR2/(n*T1))*np.exp(-TR2/T1)*np.cos(flip_angles)*np.cos(flip_angles)));\n",
    "\n",
    "    S1 = Mz1*0.8**np.sin(flip_angles);\n",
    "    S2 = Mz2*0.8**np.sin(flip_angles);\n",
    "    \n",
    "    #r ratio\n",
    "    r = np.divide(S2,S1)\n",
    "    r_app = np.divide(1 + np.multiply(n,np.cos(flip_angles)),n + np.cos(flip_angles))\n",
    "\n",
    "\n",
    "    #Signal intensities (normalized at 20°) vs angle, ranging from 10 to 110 degrees\n",
    "    #TR1 and TR2 parameters are passed to the function\n",
    "    f = plt.plot(np.arange(10,110,10), r, color='blue', ls='dashed', label='Variable ratio r')\n",
    "    plt.xlabel('Flip angles '  r'($\\theta$)')\n",
    "    plt.ylabel('r')\n",
    "    plt.ylim(0,1)\n",
    "    plt.xlim(0,110)\n",
    "    f_app = plt.plot(np.arange(10,110,10), r_app, color='blue', label='1st order approximation')\n",
    "    \n",
    "    leg = plt.legend(loc=1, fontsize='medium', frameon=True)\n",
    "    leg.get_frame().set_linewidth(1)\n",
    "    \n",
    "TR1 = 20; #ms\n",
    "TR2 = np.arange(40,140,20); #ms\n",
    "n = TR2/TR1;\n",
    "interact(nSimulations, n=(2,6,1))"
   ]
  },
  {
   "cell_type": "code",
   "execution_count": null,
   "metadata": {},
   "outputs": [],
   "source": []
  }
 ],
 "metadata": {
  "kernelspec": {
   "display_name": "Python 3",
   "language": "python",
   "name": "python3"
  },
  "language_info": {
   "codemirror_mode": {
    "name": "ipython",
    "version": 3
   },
   "file_extension": ".py",
   "mimetype": "text/x-python",
   "name": "python",
   "nbconvert_exporter": "python",
   "pygments_lexer": "ipython3",
   "version": "3.7.6"
  }
 },
 "nbformat": 4,
 "nbformat_minor": 4
}
