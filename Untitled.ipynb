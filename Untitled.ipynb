{
 "cells": [
  {
   "cell_type": "code",
   "execution_count": 10,
   "metadata": {},
   "outputs": [],
   "source": [
    "import numpy as np\n",
    "import matplotlib.pyplot as plt\n",
    "from IPython.display import display\n",
    "import ipywidgets as widgets"
   ]
  },
  {
   "cell_type": "code",
   "execution_count": 15,
   "metadata": {},
   "outputs": [
    {
     "data": {
      "image/png": "[encoded data removed]",
      "text/plain": [
       "<Figure size 432x288 with 1 Axes>"
      ]
     },
     "metadata": {
      "needs_background": "light"
     },
     "output_type": "display_data"
    }
   ],
   "source": [
    "M0 = 1000;\n",
    "flip_angles = np.arange(10,110,10); #Flip angles\n",
    "flip_angles = flip_angles*np.pi/180; #In radians for computation\n",
    "T1_wm = 900; #ms\n",
    "T1_gm = 1500; #ms\n",
    "T1_csf = 4000; #ms\n",
    "TE = 3.5; #ms\n",
    "\n",
    "#TR1 = np.arange(30,30,20,20,20); #ms\n",
    "#TR2 = np.arange(60,90,80,100,120); #ms\n",
    "#n = np.divide(TR2,TR1);\n",
    "    \n",
    "#fig, ax = plt.plot()\n",
    "plt.suptitle('Signals')\n",
    "    \n",
    "def Signal_function(TR1):\n",
    "    TR2 = 5*TR1;\n",
    "    #ax.clear()\n",
    "\n",
    "    #Longitudinal magnetization and signal (white matter)\n",
    "    Mz1_wm = M0*((1 - np.exp(-TR2/T1_wm) + (1 - np.exp(-TR1/T1_wm))*np.exp(-TR2/T1_wm)*np.cos(flip_angles))/(1 - np.exp(-TR1/T1_wm)*np.exp(-TR2/T1_wm)*np.cos(flip_angles)*np.cos(flip_angles)));\n",
    "    Mz2_wm = M0*((1 - np.exp(-TR1/T1_wm) + (1 - np.exp(-TR2/T1_wm))*np.exp(-TR1/T1_wm)*np.cos(flip_angles))/(1 - np.exp(-TR1/T1_wm)*np.exp(-TR2/T1_wm)*np.cos(flip_angles)*np.cos(flip_angles)));\n",
    "\n",
    "    S1_wm = Mz1_wm*0.8*np.sin(flip_angles);\n",
    "    S2_wm = Mz2_wm*0.8*np.sin(flip_angles);\n",
    "\n",
    "    #Normalizing at 20°\n",
    "    S1_norm_wm = S1_wm/S1_wm[1];\n",
    "    S2_norm_wm = S2_wm/S1_wm[1];\n",
    "    \n",
    "    #Longitudinal magnetization and signal (gray matter)\n",
    "    Mz1_gm = M0*((1 - np.exp(-TR2/T1_gm) + (1 - np.exp(-TR1/T1_gm))*np.exp(-TR2/T1_gm)*np.cos(flip_angles))/(1 - np.exp(-TR1/T1_gm)*np.exp(-TR2/T1_gm)*np.cos(flip_angles)*np.cos(flip_angles)));\n",
    "    Mz2_gm = M0*((1 - np.exp(-TR1/T1_gm) + (1 - np.exp(-TR2/T1_gm))*np.exp(-TR1/T1_gm)*np.cos(flip_angles))/(1 - np.exp(-TR1/T1_gm)*np.exp(-TR2/T1_gm)*np.cos(flip_angles)*np.cos(flip_angles)));\n",
    "\n",
    "    S1_gm = Mz1_gm*0.8*np.sin(flip_angles);\n",
    "    S2_gm = Mz2_gm*0.8*np.sin(flip_angles);\n",
    "\n",
    "    S1_norm_gm = S1_gm/S1_gm[1];\n",
    "    S2_norm_gm = S2_gm/S1_gm[1];\n",
    "    \n",
    "    #Longitudinal magnetization and signal (cerebrospinal fluid matter)\n",
    "    Mz1_csf = M0*((1 - np.exp(-TR2/T1_csf) + (1 - np.exp(-TR1/T1_csf))*np.exp(-TR2/T1_csf)*np.cos(flip_angles))/(1 - np.exp(-TR1/T1_csf)*np.exp(-TR2/T1_csf)*np.cos(flip_angles)*np.cos(flip_angles)));\n",
    "    Mz2_csf = M0*((1 - np.exp(-TR1/T1_csf) + (1 - np.exp(-TR2/T1_csf))*np.exp(-TR1/T1_csf)*np.cos(flip_angles))/(1 - np.exp(-TR1/T1_csf)*np.exp(-TR2/T1_csf)*np.cos(flip_angles)*np.cos(flip_angles)));\n",
    "\n",
    "    S1_csf = Mz1_csf*0.8*np.sin(flip_angles);\n",
    "    S2_csf = Mz2_csf*0.8*np.sin(flip_angles);\n",
    "\n",
    "    S1_norm_csf = S1_csf/S1_csf[1];\n",
    "    S2_norm_csf = S2_csf/S1_csf[1];\n",
    "    \n",
    "    #ax.plot(flip_angles,S1_norm_wm)\n",
    "    #plt.show()\n",
    "    \n",
    "    TR1 = widgets.FloatSlider(min=10, max=50, value=1, description='TR<sub>1<sub>:')\n",
    "\n",
    "    #Signal intensities (normalized at 20°) vs angle, ranging from 10 to 110 degrees\n",
    "    #TR1 and TR2 parameters are passed to the function\n",
    "    s1_wm = plt.plot(np.arange(10,110,10), S1_norm_wm, color='blue', ls='dashed', label='$T_1$ = 0.9 s (Signal 1)')\n",
    "    #plt.xlabel('Flip angles '  r'($\\theta$)')\n",
    "    #plt.ylabel('Normalized signal intensities')\n",
    "    #plt.ylim(0,1.4)\n",
    "    #plt.xlim(0,110)\n",
    "    #s2_wm = plt.plot(np.arange(10,110,10), S2_norm_wm, color='blue', label='$T_1$ = 0.9 s (Signal 2)')\n",
    "    \n",
    "    #s1_gm = plt.plot(np.arange(10,110,10), S1_norm_gm, color='orange', ls='dashed', label='$T_1$ = 1.5 s (Signal 1)')\n",
    "    #s2_gm = plt.plot(np.arange(10,110,10), S2_norm_gm, color='orange', label='$T_1$ = 1.5 s (Signal 2)')\n",
    "    \n",
    "    #s1_csf = plt.plot(np.arange(10,110,10), S1_norm_csf, color='green', ls='dashed', label='$T_1$ = 4.0 s (Signal 1)')\n",
    "    #s2_csf = plt.plot(np.arange(10,110,10), S2_norm_csf, color='green', label='$T_1$ = 4.0 s (Signal 2)')\n",
    "\n",
    "    \n",
    "    #leg = plt.legend(loc=1, fontsize='medium', frameon=True)\n",
    "    #leg.get_frame().set_linewidth(1)\n",
    "    \n",
    "widgets.interactive(Signal_function, TR1=(10,50,10))\n",
    "#display(TR1)"
   ]
  },
  {
   "cell_type": "code",
   "execution_count": null,
   "metadata": {},
   "outputs": [],
   "source": []
  }
 ],
 "metadata": {
  "kernelspec": {
   "display_name": "Python 3",
   "language": "python",
   "name": "python3"
  },
  "language_info": {
   "codemirror_mode": {
    "name": "ipython",
    "version": 3
   },
   "file_extension": ".py",
   "mimetype": "text/x-python",
   "name": "python",
   "nbconvert_exporter": "python",
   "pygments_lexer": "ipython3",
   "version": "3.7.6"
  }
 },
 "nbformat": 4,
 "nbformat_minor": 4
}
