{
 "cells": [
  {
   "cell_type": "markdown",
   "metadata": {},
   "source": [
    "# Equation used for the flip angle method\n",
    "###### Reference: Fram, E.K., Herfkens, R.J., Johnson, G.A., Glover, G.H., Karis, J.P., Shimakawa, A., Perkins, T.G., Pelc, N.J., 1987. Rapid calculation of T1 using variable flip angle gradient refocused imaging. Magn. Reson. Imaging 5, 201?208"
   ]
  },
  {
   "cell_type": "markdown",
   "metadata": {},
   "source": [
    "$$I(\\theta)=\\frac{N(H)(1-e^{-TR/T1})sin(\\theta)}{1-e^{-TR/T1}e^{-TR/T2^{*}}-cos(\\theta)(e^{-TR/T1}-e^{-TR/T2^{*}})}$$"
   ]
  },
  {
   "cell_type": "markdown",
   "metadata": {},
   "source": [
    "##### When TR>>T2*"
   ]
  },
  {
   "cell_type": "markdown",
   "metadata": {},
   "source": [
    "$$I(\\theta)=\\frac{N(H)(1-e^{-TR/T1})sin(\\theta)}{1-cos(\\theta)e^{-TR/T1}}$$"
   ]
  },
  {
   "cell_type": "markdown",
   "metadata": {},
   "source": [
    "# Equation 1"
   ]
  },
  {
   "cell_type": "markdown",
   "metadata": {},
   "source": [
    "##### Correcting for the decay of T2* "
   ]
  },
  {
   "cell_type": "markdown",
   "metadata": {},
   "source": [
    "$$I(\\theta)=\\frac{N(H)(1-e^{-TR/T1})sin(\\theta)}{1-cos(\\theta)e^{-TR/T1}}e^{-TE/T2^{*}}$$"
   ]
  },
  {
   "cell_type": "code",
   "execution_count": 211,
   "metadata": {},
   "outputs": [],
   "source": [
    "import numpy as np\n",
    "import matplotlib.pyplot as plt\n",
    "from sklearn.linear_model import LinearRegression\n",
    "from ipywidgets import interact, interactive, fixed, interact_manual"
   ]
  },
  {
   "cell_type": "markdown",
   "metadata": {},
   "source": [
    "## Simulation based on Equation 1. Varying TR and T1 separately."
   ]
  },
  {
   "cell_type": "code",
   "execution_count": 214,
   "metadata": {
    "scrolled": true
   },
   "outputs": [
    {
     "data": {
      "application/vnd.jupyter.widget-view+json": {
       "model_id": "b02de3e5eee44b36aaa5c71a803cec2c",
       "version_major": 2,
       "version_minor": 0
      },
      "text/plain": [
       "interactive(children=(IntSlider(value=25, description='TR', max=30, min=20, step=5), IntSlider(value=50, descr…"
      ]
     },
     "metadata": {},
     "output_type": "display_data"
    },
    {
     "data": {
      "text/plain": [
       "<function __main__.Signal_function(N, TR, T1, TE, T2star)>"
      ]
     },
     "execution_count": 214,
     "metadata": {},
     "output_type": "execute_result"
    }
   ],
   "source": [
    "def Signal_function(N,TR,T1,TE,T2star):\n",
    "    #Signal intensity vs angle, ranging from 10 to 100 degrees\n",
    "    #Parameters are later passed to the function varying TR and T1 separately\n",
    "    plt.plot(np.arange(10,110,10), (N*(1 - np.exp(-TR/T1))*np.sin(np.arange(10,110,10)*np.pi/180))*np.exp(-TE/T2star)/(1-np.cos(np.arange(10,110,10)*np.pi/180)*np.exp(-TR/T1)))\n",
    "    plt.xlabel('Flip angles '  r'($\\theta$)')\n",
    "    plt.ylabel('Signal intensity')\n",
    "    plt.ylim(0,1000)\n",
    "interact(Signal_function, N=fixed(1000), TR=(20,30,5), T1=(10,90,10), TE=fixed(12.5), T2star=fixed(500))"
   ]
  },
  {
   "cell_type": "markdown",
   "metadata": {},
   "source": [
    "## Simulation based on Equation 1. Varying TR/T1."
   ]
  },
  {
   "cell_type": "code",
   "execution_count": 215,
   "metadata": {
    "scrolled": true
   },
   "outputs": [
    {
     "data": {
      "application/vnd.jupyter.widget-view+json": {
       "model_id": "cff0469884034cccb6e022709bdfd996",
       "version_major": 2,
       "version_minor": 0
      },
      "text/plain": [
       "interactive(children=(FloatSlider(value=1.5, description='ratio_trt1', max=3.0, min=0.25, step=0.25), Output()…"
      ]
     },
     "metadata": {},
     "output_type": "display_data"
    },
    {
     "data": {
      "text/plain": [
       "<function __main__.Signal_function(N, ratio_trt1, TE, T2star)>"
      ]
     },
     "execution_count": 215,
     "metadata": {},
     "output_type": "execute_result"
    }
   ],
   "source": [
    "def Signal_function(N,ratio_trt1,TE,T2star):\n",
    "    #Signal intensity vs angle, ranging from 10 to 100 degrees\n",
    "    #Parameters are later passed to the function varying the ratio TR/T1 separately\n",
    "    plt.plot(np.arange(10,110,10), (N*(1 - np.exp(-ratio_trt1))*np.sin(np.arange(10,110,10)*np.pi/180))*np.exp(-TE/T2star)/(1-np.cos(np.arange(10,110,10)*np.pi/180)*np.exp(-ratio_trt1)))\n",
    "    plt.xlabel('Flip angles '  r'($\\theta$)')\n",
    "    plt.ylabel('Signal intensity')\n",
    "    plt.ylim(0,1000)\n",
    "interact(Signal_function, N=fixed(1000), ratio_trt1=(0.25,3,0.25), TE=fixed(12.5), T2star=fixed(500))"
   ]
  },
  {
   "cell_type": "markdown",
   "metadata": {},
   "source": [
    "## Linearization of Equation 1 to obtain Equation 2."
   ]
  },
  {
   "cell_type": "markdown",
   "metadata": {},
   "source": [
    "$$\\frac{I(\\theta)}{sin(\\theta)}=e^{-TR/T1}\\frac{I(\\theta)}{tan(\\theta)}+N(H)(1-e^{-TR/T1})e^{-TE/T2^{*}}{}$$"
   ]
  },
  {
   "cell_type": "code",
   "execution_count": 216,
   "metadata": {},
   "outputs": [
    {
     "data": {
      "application/vnd.jupyter.widget-view+json": {
       "model_id": "b3d54d39734f4c6aae5985071c133ed0",
       "version_major": 2,
       "version_minor": 0
      },
      "text/plain": [
       "interactive(children=(FloatSlider(value=1.5, description='ratio_trt1', max=3.0, min=0.25, step=0.25), Output()…"
      ]
     },
     "metadata": {},
     "output_type": "display_data"
    },
    {
     "data": {
      "text/plain": [
       "<function __main__.Linear_function(N, ratio_trt1, TE, T2star)>"
      ]
     },
     "execution_count": 216,
     "metadata": {},
     "output_type": "execute_result"
    }
   ],
   "source": [
    "def Linear_function(N,ratio_trt1,TE,T2star):\n",
    "    #I(theta)/tan(theta)\n",
    "    abs_values = ((N*(1 - np.exp(-ratio_trt1))*np.sin(np.arange(10,110,10)*np.pi/180))*np.exp(-TE/T2star)/(1-np.cos(np.arange(10,110,10)*np.pi/180)*np.exp(-ratio_trt1)))/np.tan(np.arange(10,110,10)*np.pi/180)\n",
    "    #I(theta)/sin(theta)\n",
    "    ord_values = ((N*(1 - np.exp(-ratio_trt1))*np.sin(np.arange(10,110,10)*np.pi/180))*np.exp(-TE/T2star)/(1-np.cos(np.arange(10,110,10)*np.pi/180)*np.exp(-ratio_trt1)))/np.sin(np.arange(10,110,10)*np.pi/180)\n",
    "    plt.plot(abs_values,ord_values)\n",
    "    plt.xlabel('Flip angles '  r'($\\theta$)')\n",
    "    plt.ylabel('Signal intensity')\n",
    "    plt.ylim(0,1000)\n",
    "    return abs_values,ord_values\n",
    "\n",
    "interact(Linear_function, N=fixed(1000), ratio_trt1=(0.25,3,0.25), TE=fixed(12.5), T2star=fixed(500))"
   ]
  },
  {
   "cell_type": "markdown",
   "metadata": {},
   "source": [
    "##### T1 is calculated using the slope of the fitted line"
   ]
  }
 ],
 "metadata": {
  "kernelspec": {
   "display_name": "Python 3",
   "language": "python",
   "name": "python3"
  },
  "language_info": {
   "codemirror_mode": {
    "name": "ipython",
    "version": 3
   },
   "file_extension": ".py",
   "mimetype": "text/x-python",
   "name": "python",
   "nbconvert_exporter": "python",
   "pygments_lexer": "ipython3",
   "version": "3.7.6"
  }
 },
 "nbformat": 4,
 "nbformat_minor": 4
}
